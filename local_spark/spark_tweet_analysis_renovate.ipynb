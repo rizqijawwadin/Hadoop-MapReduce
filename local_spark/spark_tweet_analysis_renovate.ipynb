{
  "nbformat": 4,
  "nbformat_minor": 0,
  "metadata": {
    "colab": {
      "provenance": [],
      "toc_visible": true
    },
    "kernelspec": {
      "name": "python3",
      "display_name": "Python 3"
    },
    "language_info": {
      "name": "python"
    }
  },
  "cells": [
    {
      "cell_type": "code",
      "source": [
        "# @title install\n",
        "!pip install pyspark"
      ],
      "metadata": {
        "colab": {
          "base_uri": "https://localhost:8080/"
        },
        "id": "0SaK_wZKqngx",
        "outputId": "3ce39b6d-b954-4f2f-8b25-c3b3b0218f43"
      },
      "execution_count": null,
      "outputs": [
        {
          "output_type": "stream",
          "name": "stdout",
          "text": [
            "Collecting pyspark\n",
            "  Downloading pyspark-3.5.1.tar.gz (317.0 MB)\n",
            "\u001b[2K     \u001b[90m━━━━━━━━━━━━━━━━━━━━━━━━━━━━━━━━━━━━━━━━\u001b[0m \u001b[32m317.0/317.0 MB\u001b[0m \u001b[31m2.9 MB/s\u001b[0m eta \u001b[36m0:00:00\u001b[0m\n",
            "\u001b[?25h  Preparing metadata (setup.py) ... \u001b[?25l\u001b[?25hdone\n",
            "Requirement already satisfied: py4j==0.10.9.7 in /usr/local/lib/python3.10/dist-packages (from pyspark) (0.10.9.7)\n",
            "Building wheels for collected packages: pyspark\n",
            "  Building wheel for pyspark (setup.py) ... \u001b[?25l\u001b[?25hdone\n",
            "  Created wheel for pyspark: filename=pyspark-3.5.1-py2.py3-none-any.whl size=317488491 sha256=3238d610e158b936021c6fa08d23bbd1554ae2708ee13479e1f4285358910a3a\n",
            "  Stored in directory: /root/.cache/pip/wheels/80/1d/60/2c256ed38dddce2fdd93be545214a63e02fbd8d74fb0b7f3a6\n",
            "Successfully built pyspark\n",
            "Installing collected packages: pyspark\n",
            "Successfully installed pyspark-3.5.1\n"
          ]
        }
      ]
    },
    {
      "cell_type": "code",
      "execution_count": null,
      "metadata": {
        "id": "BNJGtDnet_Qb"
      },
      "outputs": [],
      "source": [
        "import pyspark\n",
        "from pyspark.sql import SparkSession\n",
        "from pyspark.sql.functions import to_date, col, year\n",
        "spark = SparkSession.builder.appName('resing').getOrCreate()\n",
        "spark.conf.set(\"spark.sql.legacy.timeParserPolicy\", \"LEGACY\")"
      ]
    },
    {
      "cell_type": "code",
      "source": [
        "# @title /\n",
        "spark.read.option('header', 'true').csv('/content/alldata1/part-00000-cb692a14-234c-477b-80b5-1eeaf41bd603-c000.csv').count()"
      ],
      "metadata": {
        "collapsed": true,
        "id": "_1b8BP4cBWe2",
        "colab": {
          "base_uri": "https://localhost:8080/"
        },
        "cellView": "form",
        "outputId": "dd9abeac-c3c5-45a4-8e90-b9042910f1cf"
      },
      "execution_count": null,
      "outputs": [
        {
          "output_type": "execute_result",
          "data": {
            "text/plain": [
              "3420"
            ]
          },
          "metadata": {},
          "execution_count": 14
        }
      ]
    },
    {
      "cell_type": "code",
      "source": [
        "df = spark.read.format(\"csv\").option(\"header\",\"true\").load(\"/content/data\")"
      ],
      "metadata": {
        "collapsed": true,
        "id": "pyR2EawJA0ks"
      },
      "execution_count": null,
      "outputs": []
    },
    {
      "cell_type": "code",
      "source": [
        "df.show()\n",
        "df.count()"
      ],
      "metadata": {
        "colab": {
          "base_uri": "https://localhost:8080/"
        },
        "id": "g1jAeNFk4xU8",
        "outputId": "96df4c83-67bd-4a79-89eb-9f1222573577"
      },
      "execution_count": null,
      "outputs": [
        {
          "output_type": "stream",
          "name": "stdout",
          "text": [
            "+-------------------+--------------------+--------------+--------------------+-------------------+--------------------+-----------------------+----+--------------------+-----------+-----------+-------------+--------------------+-------------------+---------------+\n",
            "|conversation_id_str|          created_at|favorite_count|           full_text|             id_str|           image_url|in_reply_to_screen_name|lang|            location|quote_count|reply_count|retweet_count|           tweet_url|        user_id_str|       username|\n",
            "+-------------------+--------------------+--------------+--------------------+-------------------+--------------------+-----------------------+----+--------------------+-----------+-----------+-------------+--------------------+-------------------+---------------+\n",
            "|1763051760552448425|Thu Feb 29 15:35:...|             0|@DakotaGeorgy ‍ W...|1763226383269163477|                NULL|           DakotaGeorgy|  in| PT. Duite Moro Dewe|          0|          0|            0|https://x.com/Jer...|         2148258606|    JeryPringgo|\n",
            "|1763225450699194726|Thu Feb 29 15:31:...|             0| kak yungalah mbe...|1763225450699194726|                NULL|                   NULL|  in|all au on the lin...|          0|          0|            0|https://x.com/voo...|1059706841129570304|     voolezvous|\n",
            "|1763224334011965948|Thu Feb 29 15:28:...|             0|@valerianaeradix ...|1763224814784000232|                NULL|        valerianaeradix|  in|            hatinya |          0|          1|            0|https://x.com/mid...|1136351058408534016|   midfingerupp|\n",
            "|1763220456130371962|Thu Feb 29 15:16:...|             0|@feelinlonelyyyy ...|1763221674307244530|                NULL|        feelinlonelyyyy|  in|                 Jkt|          0|          1|            0|https://x.com/blo...|1204724242362716160|   bloobybubbyy|\n",
            "|1763184899165724785|Thu Feb 29 15:00:...|             0|@tanyakanrl kirai...|1763217722840895500|                NULL|             tanyakanrl|  in|                NULL|          0|          0|            0|https://x.com/chi...|1366600904191868932|      chifuyoeh|\n",
            "|1763215163103293577|Thu Feb 29 14:58:...|             0|@R_AdelJKT48 Sema...|1763217158799307241|                NULL|            R_AdelJKT48|  in|                NULL|          0|          0|            0|https://x.com/jaw...|1684833888324239360|    jawir030207|\n",
            "|1763213314170175495|Thu Feb 29 14:56:...|             0|@unnesmenfess Yuk...|1763216701796254075|                NULL|           unnesmenfess|  in|                NULL|          0|          0|            0|https://x.com/pea...|1475450127233937411|   pearlonymous|\n",
            "|1763214887126515944|Thu Feb 29 14:49:...|             0|kita usahakan non...|1763214887126515944|                NULL|                   NULL|  in|                NULL|          0|          0|            0|https://x.com/oth...|1650098685831946242|   othersidesbl|\n",
            "|1763210892806926582|Thu Feb 29 14:33:...|             2|Tinggi: 173 cm Bb...|1763210892806926582|https://pbs.twimg...|                   NULL|  in|        Planet Namek|          0|          1|            0|https://x.com/dsa...|         1448002891|        dsat911|\n",
            "|1763210752025120869|Thu Feb 29 14:32:...|             0|kngen gambar bren...|1763210752025120869|https://pbs.twimg...|                   NULL|  in|                NULL|          0|          0|            0|https://x.com/chi...|1366600904191868932|      chifuyoeh|\n",
            "|1763209244705423474|Thu Feb 29 14:28:...|             0|@SP_IndiraJKT48 I...|1763209654790979844|                NULL|         SP_IndiraJKT48|  in|                NULL|          0|          0|            0|https://x.com/jaw...|1682181791707443200|jawirIreng67853|\n",
            "|1763207857670066619|Thu Feb 29 14:25:...|             1| @Ssuguruu_ hy jawir|1763208982020432006|                NULL|                Nayaaer|  in|                NULL|          0|          0|            0|https://x.com/4re...|1749835679679565824|        4resssa|\n",
            "|1763208057797177516|Thu Feb 29 14:22:...|             0|Sedang terjawir j...|1763208057797177516|                NULL|                   NULL|  in|                NULL|          0|          0|            0|https://x.com/Ste...|          438209967|  Steylagladiol|\n",
            "|1763200838363967852|Thu Feb 29 14:09:...|             0|@sukamiayamaw Tau...|1763204836026462262|                NULL|           sukamiayamaw|  in|            hatinya |          0|          0|            0|https://x.com/mid...|1136351058408534016|   midfingerupp|\n",
            "|1762894420612145526|Thu Feb 29 14:05:...|             1|@anonjawa Baru ka...|1763203804642922691|                NULL|               anonjawa|  in|                NULL|          0|          0|            0|https://x.com/Mik...|1542318219348054016| Mikazuki666139|\n",
            "|1763081214423175475|Thu Feb 29 14:02:...|             0|@o8670 Blisteran ...|1763203169092559155|                NULL|                  o8670|  in|All around the world|          0|          0|            0|https://x.com/SAR...|1346833417745301510|  SARS_CoronaV2|\n",
            "|1763202134315831791|Thu Feb 29 13:59:...|             0|@A_ZeeJKT48 Siapa ya|1763202359378014542|                NULL|             A_ZeeJKT48|  in|                NULL|          0|          0|            0|https://x.com/jaw...|1684833888324239360|    jawir030207|\n",
            "|1763200838363967852|Thu Feb 29 13:53:...|             0|1 uban seratus pe...|1763200838363967852|https://pbs.twimg...|                   NULL|  in|            hatinya |          0|          1|            0|https://x.com/mid...|1136351058408534016|   midfingerupp|\n",
            "|1763141867007533161|Thu Feb 29 11:38:...|             0|@DendyMrdiansyah ...|1763166882688020576|                NULL|        DendyMrdiansyah|  in|                NULL|          0|          0|            0|https://x.com/wor...|1285892859523002370|    worldofkhaa|\n",
            "|1763166603368374568|Thu Feb 29 11:37:...|             0| freya lucu bgt bjir|1763166603368374568|                NULL|                   NULL|  in|                NULL|          0|          0|            0|https://x.com/chi...|1366600904191868932|      chifuyoeh|\n",
            "+-------------------+--------------------+--------------+--------------------+-------------------+--------------------+-----------------------+----+--------------------+-----------+-----------+-------------+--------------------+-------------------+---------------+\n",
            "only showing top 20 rows\n",
            "\n"
          ]
        },
        {
          "output_type": "execute_result",
          "data": {
            "text/plain": [
              "11096"
            ]
          },
          "metadata": {},
          "execution_count": 20
        }
      ]
    },
    {
      "cell_type": "code",
      "source": [
        "df = df.drop('conversation_id_str', 'favorite_count', 'id_str', 'image_url', 'in_reply_to_scren_name', 'lang',\n",
        "                      'location', 'quote_count', 'reply_count', 'retweet_count', 'tweet_count', 'user_id_str', 'username',\n",
        "                      'in_reply_to_screen_name', 'tweet_url')"
      ],
      "metadata": {
        "id": "2QA1xbyj6ppi"
      },
      "execution_count": null,
      "outputs": []
    },
    {
      "cell_type": "code",
      "source": [
        "df.show()\n",
        "df.count()"
      ],
      "metadata": {
        "colab": {
          "base_uri": "https://localhost:8080/"
        },
        "id": "SoYOGj6l6J3c",
        "outputId": "6ce953df-b34d-4a27-fccc-7cae34f05276"
      },
      "execution_count": null,
      "outputs": [
        {
          "output_type": "stream",
          "name": "stdout",
          "text": [
            "+--------------------+--------------------+\n",
            "|          created_at|           full_text|\n",
            "+--------------------+--------------------+\n",
            "|Thu Feb 29 15:35:...|@DakotaGeorgy ‍ W...|\n",
            "|Thu Feb 29 15:31:...| kak yungalah mbe...|\n",
            "|Thu Feb 29 15:28:...|@valerianaeradix ...|\n",
            "|Thu Feb 29 15:16:...|@feelinlonelyyyy ...|\n",
            "|Thu Feb 29 15:00:...|@tanyakanrl kirai...|\n",
            "|Thu Feb 29 14:58:...|@R_AdelJKT48 Sema...|\n",
            "|Thu Feb 29 14:56:...|@unnesmenfess Yuk...|\n",
            "|Thu Feb 29 14:49:...|kita usahakan non...|\n",
            "|Thu Feb 29 14:33:...|Tinggi: 173 cm Bb...|\n",
            "|Thu Feb 29 14:32:...|kngen gambar bren...|\n",
            "|Thu Feb 29 14:28:...|@SP_IndiraJKT48 I...|\n",
            "|Thu Feb 29 14:25:...| @Ssuguruu_ hy jawir|\n",
            "|Thu Feb 29 14:22:...|Sedang terjawir j...|\n",
            "|Thu Feb 29 14:09:...|@sukamiayamaw Tau...|\n",
            "|Thu Feb 29 14:05:...|@anonjawa Baru ka...|\n",
            "|Thu Feb 29 14:02:...|@o8670 Blisteran ...|\n",
            "|Thu Feb 29 13:59:...|@A_ZeeJKT48 Siapa ya|\n",
            "|Thu Feb 29 13:53:...|1 uban seratus pe...|\n",
            "|Thu Feb 29 11:38:...|@DendyMrdiansyah ...|\n",
            "|Thu Feb 29 11:37:...| freya lucu bgt bjir|\n",
            "+--------------------+--------------------+\n",
            "only showing top 20 rows\n",
            "\n"
          ]
        },
        {
          "output_type": "execute_result",
          "data": {
            "text/plain": [
              "11096"
            ]
          },
          "metadata": {},
          "execution_count": 26
        }
      ]
    },
    {
      "cell_type": "code",
      "source": [
        "df = df.dropDuplicates()\n",
        "df.count()"
      ],
      "metadata": {
        "colab": {
          "base_uri": "https://localhost:8080/"
        },
        "id": "m6jFvAVE6ARo",
        "outputId": "3a15015f-9c45-4178-f7c9-fb29694dc41b"
      },
      "execution_count": null,
      "outputs": [
        {
          "output_type": "execute_result",
          "data": {
            "text/plain": [
              "10912"
            ]
          },
          "metadata": {},
          "execution_count": 15
        }
      ]
    },
    {
      "cell_type": "code",
      "source": [
        "df = df.withColumn('created_at', to_date(col('created_at'), 'EEE MMM dd HH:mm:ss Z yyyy'))\n",
        "df = df.withColumn('year', year(col('created_at')))"
      ],
      "metadata": {
        "id": "3IT19NgI57XS"
      },
      "execution_count": null,
      "outputs": []
    },
    {
      "cell_type": "code",
      "source": [
        "df_filtered = df.filter(df.full_text.contains('jawir') |\n",
        "                              df.full_text.contains('cina') |\n",
        "                              df.full_text.contains('Cina') |\n",
        "                              df.full_text.contains('CINA') |\n",
        "                              df.full_text.contains('Jawir') |\n",
        "                              df.full_text.contains('JAWIR') |\n",
        "                              df.full_text.contains('sunda') |\n",
        "                              df.full_text.contains('Sunda') |\n",
        "                              df.full_text.contains('SUNDA') |\n",
        "                              df.full_text.contains('bule') |\n",
        "                              df.full_text.contains('Bule') |\n",
        "                              df.full_text.contains('BULE') |\n",
        "                              df.full_text.contains('jawa') |\n",
        "                              df.full_text.contains('Jawa') |\n",
        "                              df.full_text.contains('nigga') |\n",
        "                              df.full_text.contains('Nigga') |\n",
        "                              df.full_text.contains('NIGGA') |\n",
        "                              df.full_text.contains('nigger') |\n",
        "                              df.full_text.contains('Nigger') |\n",
        "                              df.full_text.contains('NIGGER') |\n",
        "                              df.full_text.contains('negro') |\n",
        "                              df.full_text.contains('Negro') |\n",
        "                              df.full_text.contains('NEGRO') |\n",
        "                              df.full_text.contains('kontol') |\n",
        "                              df.full_text.contains('Kontol') |\n",
        "                              df.full_text.contains('KONTOL')\n",
        "                              )"
      ],
      "metadata": {
        "id": "_WUw7PZrWKoR"
      },
      "execution_count": null,
      "outputs": []
    },
    {
      "cell_type": "code",
      "source": [
        "# @title /\n",
        "df_filtered_dump = df.filter(df.full_text.contains('jawir') &\n",
        "                              df.full_text.contains('cina') &\n",
        "                              df.full_text.contains('Cina') &\n",
        "                              df.full_text.contains('CINA') &\n",
        "                              df.full_text.contains('Jawir') &\n",
        "                              df.full_text.contains('JAWIR') &\n",
        "                              df.full_text.contains('sunda') &\n",
        "                              df.full_text.contains('Sunda') &\n",
        "                              df.full_text.contains('SUNDA') &\n",
        "                              df.full_text.contains('bule') &\n",
        "                              df.full_text.contains('Bule') &\n",
        "                              df.full_text.contains('BULE') &\n",
        "                              df.full_text.contains('jawa') &\n",
        "                              df.full_text.contains('Jawa') &\n",
        "                              df.full_text.contains('nigga') &\n",
        "                              df.full_text.contains('Nigga') &\n",
        "                              df.full_text.contains('NIGGA') &\n",
        "                              df.full_text.contains('nigger') &\n",
        "                              df.full_text.contains('Nigger') &\n",
        "                              df.full_text.contains('NIGGER') &\n",
        "                              df.full_text.contains('negro') &\n",
        "                              df.full_text.contains('Negro') &\n",
        "                              df.full_text.contains('NWGRO') &\n",
        "                              df.full_text.contains('kontol') &\n",
        "                              df.full_text.contains('Kontol') &\n",
        "                              df.full_text.contains('KONTOL')\n",
        "                              )"
      ],
      "metadata": {
        "id": "2dxtIJ54dCfH",
        "cellView": "form"
      },
      "execution_count": null,
      "outputs": []
    },
    {
      "cell_type": "code",
      "source": [
        "# @title / export\n",
        "df_2020.write.option(\"header\",True) \\\n",
        ".csv(\"/content/2020\")\n",
        "df_2021.write.option(\"header\",True) \\\n",
        ".csv(\"/content/2021\")\n",
        "df_2022.write.option(\"header\",True) \\\n",
        ".csv(\"/content/2022\")\n",
        "df_2023.write.option(\"header\",True) \\\n",
        ".csv(\"/content/2023\")\n",
        "df_2024.write.option(\"header\",True) \\\n",
        ".csv(\"/content/2024\")"
      ],
      "metadata": {
        "id": "UZ0XJyIckDkr",
        "cellView": "form"
      },
      "execution_count": null,
      "outputs": []
    },
    {
      "cell_type": "code",
      "source": [
        "df_filtered_2024 = df_filtered.filter(col('year') == 2024)\n",
        "df_filtered_2023 = df_filtered.filter(col('year') == 2023)\n",
        "df_filtered_2022 = df_filtered.filter(col('year') == 2022)\n",
        "df_filtered_2021 = df_filtered.filter(col('year') == 2021)\n",
        "df_filtered_2020 = df_filtered.filter(col('year') == 2020)"
      ],
      "metadata": {
        "id": "VhJioYUEPuOO"
      },
      "execution_count": null,
      "outputs": []
    },
    {
      "cell_type": "code",
      "source": [
        "print('Total data = ', df.count())\n",
        "print('Total data yang sudah difilter / dibersihkan = ', df_filtered.count())\n",
        "print('Data 2024 = ', df_filtered_2024.count())\n",
        "print('Data 2023 = ', df_filtered_2023.count())\n",
        "print('Data 2022 = ', df_filtered_2022.count())\n",
        "print('Data 2021 = ', df_filtered_2021.count())\n",
        "print('Data 2020 = ', df_filtered_2020.count())"
      ],
      "metadata": {
        "colab": {
          "base_uri": "https://localhost:8080/"
        },
        "id": "iaFG9ja2PNRh",
        "outputId": "d972beab-0a81-44e3-f176-2b111beacb36"
      },
      "execution_count": null,
      "outputs": [
        {
          "output_type": "stream",
          "name": "stdout",
          "text": [
            "Total data =  11096\n",
            "Total data yang sudah difilter / dibersihkan =  5338\n",
            "Data 2024 =  3439\n",
            "Data 2023 =  681\n",
            "Data 2022 =  648\n",
            "Data 2021 =  413\n",
            "Data 2020 =  157\n"
          ]
        }
      ]
    }
  ]
}
